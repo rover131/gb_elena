{
 "cells": [
  {
   "cell_type": "code",
   "execution_count": null,
   "metadata": {},
   "outputs": [],
   "source": [
    "import numpy  as np\n",
    "def fruits_counter(**kwargs):\n",
    "    fruits_count = np.array([kwargs[key] for key in kwargs.keys()])\n",
    "    return np.sum(fruits_count)\n",
    "d = {'r':2, 't':3, 'y':4}\n",
    "print(fruits_counter(**d))"
   ]
  },
  {
   "cell_type": "code",
   "execution_count": null,
   "metadata": {},
   "outputs": [],
   "source": []
  },
  {
   "cell_type": "code",
   "execution_count": null,
   "metadata": {},
   "outputs": [],
   "source": [
    "costs =  [100, 125, -90, 345, 655, -1, 0, 200] \n",
    "general_cost = np.array([i if i > 0 else 0 for i in costs])\n",
    "print(np.sum(general_cost))"
   ]
  },
  {
   "cell_type": "code",
   "execution_count": null,
   "metadata": {},
   "outputs": [],
   "source": []
  },
  {
   "cell_type": "code",
   "execution_count": null,
   "metadata": {},
   "outputs": [],
   "source": [
    "purchase_dates = ['2021-09-14', '2021-12-15', '2021-09-08', '2021-12-05', '2021-10-09', '2021-09-30', '2021-12-22', '2021-11-29', '2021-12-24', '2021-11-26', '2021-10-27', '2021-12-18', '2021-11-09', '2021-11-23', '2021-09-27', '2021-10-02', '2021-12-27', '2021-09-20', '2021-12-13', '2021-11-01', '2021-11-09', '2021-12-06', '2021-12-08', '2021-10-09', '2021-10-31', '2021-09-30', '2021-11-09', '2021-12-13', '2021-10-26', '2021-12-09']\n",
    "purchases_costs = [1270, 8413, 9028, 3703, 5739, 4095, 295, 4944, 5723, 3701, 4471, 651, 7037, 4274, 6275, 4988, 6930, 2971, 6592, 2004, 2822, 519, 3406, 2732, 5015, 2008, 316, 6333, 5700, 2887]\n",
    "def november_revenue(list1, list2):\n",
    "    revenue = [list2[i] for i in range(len(list2)) if list1[i].split('-')[1] == '11']\n",
    "    print(revenue)\n",
    "november_revenue(purchase_dates, purchases_costs)"
   ]
  },
  {
   "cell_type": "code",
   "execution_count": null,
   "metadata": {},
   "outputs": [],
   "source": []
  },
  {
   "cell_type": "code",
   "execution_count": null,
   "metadata": {},
   "outputs": [],
   "source": [
    "def month_revenue(list1: list, list2: list)->dict:\n",
    "    month_revenue = {'01': 0,'02':0,'03':0,'04':0,'05':0,'06':0,'07':0,'08':0,'09':0,'10':0,'11':0,'12':0}\n",
    "    for i in range(len(list1)):\n",
    "        if (list1[i].split('-')[1] in month_revenue):\n",
    "            month_revenue[list1[i].split('-')[1]] = month_revenue[list1[i].split('-')[1]] + list2[i]\n",
    "    return month_revenue\n",
    "month_revenue(purchase_dates, purchases_costs)"
   ]
  }
 ],
 "metadata": {
  "language_info": {
   "name": "python"
  },
  "orig_nbformat": 4
 },
 "nbformat": 4,
 "nbformat_minor": 2
}

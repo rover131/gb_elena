{
 "cells": [
  {
   "cell_type": "code",
   "execution_count": null,
   "metadata": {},
   "outputs": [],
   "source": [
    "\n",
    "import pandas as pd"
   ]
  },
  {
   "cell_type": "code",
   "execution_count": null,
   "metadata": {},
   "outputs": [],
   "source": [
    "#1.1\n",
    "df = pd.read_csv('kc_house_data (2).csv')\n",
    "df.head()"
   ]
  },
  {
   "cell_type": "code",
   "execution_count": null,
   "metadata": {},
   "outputs": [],
   "source": [
    "#1.2\n",
    "new_df = []\n",
    "\n",
    "for i, k in df.iterrows():\n",
    "    if k['yr_renovated']:\n",
    "        new_df.append(k['yr_renovated']-k['yr_built'])\n",
    "    else:\n",
    "        new_df.append(0)\n",
    "\n",
    "df['delta_renovated'] = new_df\n",
    "df.head()"
   ]
  },
  {
   "cell_type": "code",
   "execution_count": null,
   "metadata": {},
   "outputs": [],
   "source": [
    "#1.3\n",
    "df['Y'] = df['date'].apply(lambda x: int(x[:4]))\n",
    "df['M'] = df['date'].apply(lambda x: int(x[4:6]))\n",
    "df[['Y','M']].head()"
   ]
  },
  {
   "cell_type": "code",
   "execution_count": null,
   "metadata": {},
   "outputs": [],
   "source": [
    "#1.4\n",
    "df.drop(columns=['date' ,'zipcode', 'lat', 'long'], inplace=True)\n",
    "df.head()"
   ]
  },
  {
   "cell_type": "code",
   "execution_count": null,
   "metadata": {},
   "outputs": [],
   "source": [
    "clients = pd.DataFrame({\n",
    "'client_id': [1459, 4684, 3498, 3942, 4535, 2308, 2866,\n",
    "2765, 1472, 4236, 2295,\n",
    "939, 3840, 280, 20, 4332, 3475, 4213, 3113, 4809, 2134,\n",
    "2242,\n",
    "2068, 4929, 1384, 1589, 3317, 2260, 1727, 1764, 1611, 1474],\n",
    "'house_id': [8965450190, 6823100225, 5104540330,\n",
    "2131701075, 1522700060,\n",
    "1189000207, 6821600300, 7137950720, 9510920050, 6131600255,\n",
    "5428000070, 1788800910, 8100400160, 3123049142, 6306800010,\n",
    "5083000375, 7920100025, 1951600150, 809001400, 339600110,\n",
    "1622049154, 1099600250, 8563000110, 2768100205, 3995700435,\n",
    "8861700030, 3303980210, 7731100066, 8146100580, 825069097,\n",
    "3889100029, 9524100196]\n",
    "})\n",
    "clients.head()"
   ]
  },
  {
   "cell_type": "code",
   "execution_count": null,
   "metadata": {},
   "outputs": [],
   "source": [
    "#2.1\n",
    "clients_id = clients.set_index('house_id')\n",
    "df2 = df.set_index('id')\n",
    "joined = clients_id.join(df2)\n",
    "joined.head()"
   ]
  },
  {
   "cell_type": "code",
   "execution_count": null,
   "metadata": {},
   "outputs": [],
   "source": [
    "#2.2\n",
    "merged = clients.merge(df, left_on = 'house_id', right_on = 'id')\n",
    "merged.head()"
   ]
  },
  {
   "cell_type": "code",
   "execution_count": null,
   "metadata": {},
   "outputs": [],
   "source": [
    "#3.1\n",
    "df.groupby('bedrooms').agg({'price' : 'mean'}).sort_values(by = 'price')\n",
    "     "
   ]
  },
  {
   "cell_type": "code",
   "execution_count": null,
   "metadata": {},
   "outputs": [],
   "source": [
    "\n",
    "#3.2\n",
    "df.groupby('condition').agg({'price' : ['min', 'mean', 'max']})"
   ]
  },
  {
   "cell_type": "code",
   "execution_count": null,
   "metadata": {},
   "outputs": [],
   "source": [
    "#3.3\n",
    "df.pivot_table(index = 'waterfront', columns= 'view' , values='condition', aggfunc='count', fill_value=0)\n",
    "  "
   ]
  },
  {
   "cell_type": "code",
   "execution_count": null,
   "metadata": {},
   "outputs": [],
   "source": [
    "#3.4\n",
    "pd.crosstab(index = df['floors'], columns = df['bedrooms'])"
   ]
  },
  {
   "cell_type": "code",
   "execution_count": null,
   "metadata": {},
   "outputs": [],
   "source": [
    "#3.5\n",
    "df.pivot_table(index='condition', columns='grade', values='price', aggfunc='median', fill_value=0)\n",
    "    "
   ]
  }
 ],
 "metadata": {
  "language_info": {
   "name": "python"
  },
  "orig_nbformat": 4
 },
 "nbformat": 4,
 "nbformat_minor": 2
}
